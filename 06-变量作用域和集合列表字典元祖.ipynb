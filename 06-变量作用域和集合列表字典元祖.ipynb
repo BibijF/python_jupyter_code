{
 "cells": [
  {
   "cell_type": "markdown",
   "metadata": {},
   "source": [
    "# 变量作用域\n",
    "- LGEB 原则\n",
    "    - L(Local): 局部作用域\n",
    "    - E(Enciosing function local): 外部嵌套函数作用域\n",
    "    - G(Global mudule): 函数定义所在模块作用域\n",
    "    - B(Buildin): Python内置"
   ]
  },
  {
   "cell_type": "markdown",
   "metadata": {},
   "source": [
    "## 提升局部变量为全局变量\n",
    "- 使用global"
   ]
  },
  {
   "cell_type": "code",
   "execution_count": 9,
   "metadata": {},
   "outputs": [
    {
     "name": "stdout",
     "output_type": "stream",
     "text": [
      "aaa\n",
      "hello\n",
      "hello\n"
     ]
    }
   ],
   "source": [
    "a = \"aaa\"\n",
    "print(a)\n",
    "def func():\n",
    "    # 将a变量提升为全局变量；该变量需要提前定义\n",
    "    global a     \n",
    "    a = \"hello\"\n",
    "    print(a)\n",
    "func()\n",
    "print(a)"
   ]
  },
  {
   "cell_type": "markdown",
   "metadata": {},
   "source": [
    "## Locals()和globals()函数"
   ]
  },
  {
   "cell_type": "code",
   "execution_count": 12,
   "metadata": {},
   "outputs": [
    {
     "name": "stdout",
     "output_type": "stream",
     "text": [
      "Locals = {'c': 111}\n",
      "Globals = {'__name__': '__main__', '__doc__': 'Automatically created module for IPython interactive environment', '__package__': None, '__loader__': None, '__spec__': None, '__builtin__': <module 'builtins' (built-in)>, '__builtins__': <module 'builtins' (built-in)>, '_ih': ['', 'def func():\\n    global a = \"hello\"\\n\\nprint(a)', 'def func():\\n    global a \\n    a = \"hello\"\\n\\nprint(a)', 'help(global)', 'help(globals)', 'a = \"aaa\"\\ndef func():\\n    global a \\n    a = \"hello\"\\n    print(a)\\n\\nprint(a)', 'a = \"aaa\"\\ndef func():\\n    global a \\n    a = \"hello\"\\n    print(a)\\nfunc()\\nprint(a)', 'a = \"aaa\"\\nprint(a)\\ndef func():\\n    global a \\n    a = \"hello\"\\n    print(a)\\nfunc()\\nprint(a)', '###\\n    ajdslfk\\n###\\na = \"aaa\"\\nprint(a)\\ndef func():\\n    # 将a变量提升为全局变量；该变量需要提前定义\\n    global a     \\n    a = \"hello\"\\n    print(a)\\nfunc()\\nprint(a)', 'a = \"aaa\"\\nprint(a)\\ndef func():\\n    # 将a变量提升为全局变量；该变量需要提前定义\\n    global a     \\n    a = \"hello\"\\n    print(a)\\nfunc()\\nprint(a)', 'a = 1\\nb = 2\\ndef func():\\n    c = 111\\n    print(\"Locals = {0}\".format(locals()))\\n    print(\"Globals = {0}\".format(globals()))', 'a = 1\\nb = 2\\ndef func():\\n    c = 111\\n    print(\"Locals = {0}\".format(locals()))\\n    print(\"Globals = {0}\".format(globals()))', 'a = 1\\nb = 2\\ndef func():\\n    c = 111\\n    print(\"Locals = {0}\".format(locals()))\\n    print(\"Globals = {0}\".format(globals()))\\n    \\nfunc()'], '_oh': {}, '_dh': ['E:\\\\Jupyter\\\\Notebook'], 'In': ['', 'def func():\\n    global a = \"hello\"\\n\\nprint(a)', 'def func():\\n    global a \\n    a = \"hello\"\\n\\nprint(a)', 'help(global)', 'help(globals)', 'a = \"aaa\"\\ndef func():\\n    global a \\n    a = \"hello\"\\n    print(a)\\n\\nprint(a)', 'a = \"aaa\"\\ndef func():\\n    global a \\n    a = \"hello\"\\n    print(a)\\nfunc()\\nprint(a)', 'a = \"aaa\"\\nprint(a)\\ndef func():\\n    global a \\n    a = \"hello\"\\n    print(a)\\nfunc()\\nprint(a)', '###\\n    ajdslfk\\n###\\na = \"aaa\"\\nprint(a)\\ndef func():\\n    # 将a变量提升为全局变量；该变量需要提前定义\\n    global a     \\n    a = \"hello\"\\n    print(a)\\nfunc()\\nprint(a)', 'a = \"aaa\"\\nprint(a)\\ndef func():\\n    # 将a变量提升为全局变量；该变量需要提前定义\\n    global a     \\n    a = \"hello\"\\n    print(a)\\nfunc()\\nprint(a)', 'a = 1\\nb = 2\\ndef func():\\n    c = 111\\n    print(\"Locals = {0}\".format(locals()))\\n    print(\"Globals = {0}\".format(globals()))', 'a = 1\\nb = 2\\ndef func():\\n    c = 111\\n    print(\"Locals = {0}\".format(locals()))\\n    print(\"Globals = {0}\".format(globals()))', 'a = 1\\nb = 2\\ndef func():\\n    c = 111\\n    print(\"Locals = {0}\".format(locals()))\\n    print(\"Globals = {0}\".format(globals()))\\n    \\nfunc()'], 'Out': {}, 'get_ipython': <bound method InteractiveShell.get_ipython of <ipykernel.zmqshell.ZMQInteractiveShell object at 0x000001DA718A0D68>>, 'exit': <IPython.core.autocall.ZMQExitAutocall object at 0x000001DA735EE160>, 'quit': <IPython.core.autocall.ZMQExitAutocall object at 0x000001DA735EE160>, '_': '', '__': '', '___': '', '_i': 'a = 1\\nb = 2\\ndef func():\\n    c = 111\\n    print(\"Locals = {0}\".format(locals()))\\n    print(\"Globals = {0}\".format(globals()))', '_ii': 'a = 1\\nb = 2\\ndef func():\\n    c = 111\\n    print(\"Locals = {0}\".format(locals()))\\n    print(\"Globals = {0}\".format(globals()))', '_iii': 'a = \"aaa\"\\nprint(a)\\ndef func():\\n    # 将a变量提升为全局变量；该变量需要提前定义\\n    global a     \\n    a = \"hello\"\\n    print(a)\\nfunc()\\nprint(a)', '_i1': 'def func():\\n    global a = \"hello\"\\n\\nprint(a)', '_i2': 'def func():\\n    global a \\n    a = \"hello\"\\n\\nprint(a)', 'func': <function func at 0x000001DA73773730>, '_i3': 'help(global)', '_i4': 'help(globals)', '_i5': 'a = \"aaa\"\\ndef func():\\n    global a \\n    a = \"hello\"\\n    print(a)\\n\\nprint(a)', 'a': 1, '_i6': 'a = \"aaa\"\\ndef func():\\n    global a \\n    a = \"hello\"\\n    print(a)\\nfunc()\\nprint(a)', '_i7': 'a = \"aaa\"\\nprint(a)\\ndef func():\\n    global a \\n    a = \"hello\"\\n    print(a)\\nfunc()\\nprint(a)', '_i8': '###\\n    ajdslfk\\n###\\na = \"aaa\"\\nprint(a)\\ndef func():\\n    # 将a变量提升为全局变量；该变量需要提前定义\\n    global a     \\n    a = \"hello\"\\n    print(a)\\nfunc()\\nprint(a)', '_i9': 'a = \"aaa\"\\nprint(a)\\ndef func():\\n    # 将a变量提升为全局变量；该变量需要提前定义\\n    global a     \\n    a = \"hello\"\\n    print(a)\\nfunc()\\nprint(a)', '_i10': 'a = 1\\nb = 2\\ndef func():\\n    c = 111\\n    print(\"Locals = {0}\".format(locals()))\\n    print(\"Globals = {0}\".format(globals()))', 'b': 2, '_i11': 'a = 1\\nb = 2\\ndef func():\\n    c = 111\\n    print(\"Locals = {0}\".format(locals()))\\n    print(\"Globals = {0}\".format(globals()))', '_i12': 'a = 1\\nb = 2\\ndef func():\\n    c = 111\\n    print(\"Locals = {0}\".format(locals()))\\n    print(\"Globals = {0}\".format(globals()))\\n    \\nfunc()'}\n"
     ]
    }
   ],
   "source": [
    "a = 1\n",
    "b = 2\n",
    "def func():\n",
    "    c = 111\n",
    "    print(\"Locals = {0}\".format(locals()))\n",
    "    print(\"Globals = {0}\".format(globals()))\n",
    "    \n",
    "func()"
   ]
  },
  {
   "cell_type": "markdown",
   "metadata": {},
   "source": [
    "## eval()函数\n",
    "- 把字符串当做表达式执行，并返回执行结果\n",
    "- 实例\n",
    "    - eval(string_code, global=None, local=None)\n",
    "\n",
    "## exec()函数\n",
    "- 把字符串当做表达式执行，不返回执行结果\n",
    "- 实例\n",
    "    - exec(string_code, global=None, local=None)"
   ]
  },
  {
   "cell_type": "code",
   "execution_count": 35,
   "metadata": {},
   "outputs": [
    {
     "name": "stdout",
     "output_type": "stream",
     "text": [
      "300\n",
      "300\n",
      "x + y = 300\n",
      "None\n",
      "x + y = 300\n"
     ]
    }
   ],
   "source": [
    "x = 100\n",
    "y = 200\n",
    "\n",
    "def func():\n",
    "    c = x + y\n",
    "    print(c)\n",
    "    print(eval('x+y'))\n",
    "    eval(\"print('x + y =', x+y)\")\n",
    "    print(exec(\"x+y\"))\n",
    "    exec(\"print('x + y =', x+y)\")\n",
    "    \n",
    "func()\n"
   ]
  },
  {
   "cell_type": "code",
   "execution_count": null,
   "metadata": {},
   "outputs": [],
   "source": []
  }
 ],
 "metadata": {
  "kernelspec": {
   "display_name": "Python 3",
   "language": "python",
   "name": "python3"
  },
  "language_info": {
   "codemirror_mode": {
    "name": "ipython",
    "version": 3
   },
   "file_extension": ".py",
   "mimetype": "text/x-python",
   "name": "python",
   "nbconvert_exporter": "python",
   "pygments_lexer": "ipython3",
   "version": "3.7.0"
  }
 },
 "nbformat": 4,
 "nbformat_minor": 2
}
