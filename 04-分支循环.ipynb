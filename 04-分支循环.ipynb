{
 "cells": [
  {
   "cell_type": "code",
   "execution_count": 1,
   "metadata": {},
   "outputs": [
    {
     "name": "stdout",
     "output_type": "stream",
     "text": [
      "please input your sex:123\n",
      "your sex：123\n",
      "nima\n"
     ]
    }
   ],
   "source": [
    "gender = input(\"please input your sex:\")\n",
    "print(\"your sex：{0}\".format(gender))\n",
    "\n",
    "if gender == \"nan\":\n",
    "    print(\"chishi\")\n",
    "else:\n",
    "    print(\"nima\")"
   ]
  },
  {
   "cell_type": "markdown",
   "metadata": {},
   "source": [
    "# 分支\n",
    "   -if elif\n",
    "# 循环\n",
    "    - for循环\n",
    "        - for 变量 in 序列：\n",
    "        - range(1, 100)\n",
    "        - for _ in range()\n",
    "        - for - else\n",
    "        - break continue pass"
   ]
  },
  {
   "cell_type": "code",
   "execution_count": 2,
   "metadata": {},
   "outputs": [
    {
     "name": "stdout",
     "output_type": "stream",
     "text": [
      "ningo\n",
      "pengo\n",
      "pango\n",
      "chaogo\n",
      "gango\n",
      "   0\n",
      "   1\n",
      "   2\n",
      "   3\n",
      "   4\n",
      "   5\n",
      "   6\n",
      "   7\n",
      "   8\n",
      "   9\n"
     ]
    }
   ],
   "source": [
    "for name in (\"ningo\", \"pengo\", \"pango\", \"chaogo\", \"gango\"):\n",
    "    print(name)\n",
    "for i in range(10):\n",
    "    print(\"  \", i)"
   ]
  },
  {
   "cell_type": "code",
   "execution_count": null,
   "metadata": {},
   "outputs": [],
   "source": []
  }
 ],
 "metadata": {
  "kernelspec": {
   "display_name": "Python 3",
   "language": "python",
   "name": "python3"
  },
  "language_info": {
   "codemirror_mode": {
    "name": "ipython",
    "version": 3
   },
   "file_extension": ".py",
   "mimetype": "text/x-python",
   "name": "python",
   "nbconvert_exporter": "python",
   "pygments_lexer": "ipython3",
   "version": "3.7.0"
  }
 },
 "nbformat": 4,
 "nbformat_minor": 2
}
