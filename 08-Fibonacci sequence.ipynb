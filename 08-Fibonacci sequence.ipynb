{
 "cells": [
  {
   "cell_type": "code",
   "execution_count": 3,
   "metadata": {},
   "outputs": [
    {
     "name": "stdout",
     "output_type": "stream",
     "text": [
      "1\n",
      "1\n",
      "2\n",
      "3\n",
      "5\n",
      "8\n",
      "13\n",
      "21\n",
      "34\n",
      "55\n",
      "89\n"
     ]
    }
   ],
   "source": [
    "#输出斐波那契数列\n",
    "\n",
    "x, y = 0, 1\n",
    "\n",
    "def fib_seq():\n",
    "    global x, y\n",
    "    print(y)\n",
    "    temp = y\n",
    "    y += x\n",
    "    x = temp\n",
    "    \n",
    "    if y == 144:\n",
    "        return\n",
    "    fib_seq()   #没有限定递归次数（或很大）\n",
    "fib_seq()\n",
    "    "
   ]
  },
  {
   "cell_type": "code",
   "execution_count": 19,
   "metadata": {},
   "outputs": [
    {
     "name": "stdout",
     "output_type": "stream",
     "text": [
      "请输入数字n：14\n",
      "610\n"
     ]
    }
   ],
   "source": [
    "# 输出第n歌斐波那契数列的值\n",
    "\n",
    "n = int(input(\"请输入数字n：\"))\n",
    "\n",
    "def fib(n):\n",
    "    \n",
    "    if n < 1:\n",
    "        return \"error\"\n",
    "    if n == 1:\n",
    "        return n\n",
    "    \n",
    "    if n == 2:\n",
    "        return n\n",
    "    \n",
    "    return fib(n-1) + fib(n-2)\n",
    "\n",
    "print(fib(n))"
   ]
  },
  {
   "cell_type": "code",
   "execution_count": 11,
   "metadata": {},
   "outputs": [
    {
     "name": "stdout",
     "output_type": "stream",
     "text": [
      "3\n",
      "No Python documentation found for '3'.\n",
      "Use help() to get the interactive help utility.\n",
      "Use help(str) for help on the str class.\n",
      "\n"
     ]
    }
   ],
   "source": [
    "help(input())"
   ]
  },
  {
   "cell_type": "code",
   "execution_count": null,
   "metadata": {},
   "outputs": [],
   "source": []
  }
 ],
 "metadata": {
  "kernelspec": {
   "display_name": "Python 3",
   "language": "python",
   "name": "python3"
  },
  "language_info": {
   "codemirror_mode": {
    "name": "ipython",
    "version": 3
   },
   "file_extension": ".py",
   "mimetype": "text/x-python",
   "name": "python",
   "nbconvert_exporter": "python",
   "pygments_lexer": "ipython3",
   "version": "3.7.0"
  }
 },
 "nbformat": 4,
 "nbformat_minor": 2
}
