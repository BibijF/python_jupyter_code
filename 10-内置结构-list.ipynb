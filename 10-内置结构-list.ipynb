{
 "cells": [
  {
   "cell_type": "code",
   "execution_count": 100,
   "metadata": {
    "scrolled": true
   },
   "outputs": [
    {
     "name": "stdout",
     "output_type": "stream",
     "text": [
      "a列表: [1, 2, 3, 4, 5]\n",
      "b列表: ['ningo', 'cs']\n"
     ]
    }
   ],
   "source": [
    "#生成列表\n",
    "a = [1,2,3,4,5]\n",
    "b = [\"ningo\", \"cs\"]\n",
    "print(\"a列表:\", a)\n",
    "print(\"b列表:\", b)"
   ]
  },
  {
   "cell_type": "code",
   "execution_count": 10,
   "metadata": {},
   "outputs": [
    {
     "name": "stdout",
     "output_type": "stream",
     "text": [
      "[1, 2, 3, 4, 5, 6]\n",
      "a[3:5]: [4, 5]\n",
      "[3, 4, 5]\n",
      "[4, 5, 6]\n",
      "[3, 4, 5, 6]\n"
     ]
    }
   ],
   "source": [
    "#切片   \n",
    "a = [1,2,3,4,5,6]\n",
    "print(a)\n",
    "print('a[3:5]:', (a[3:5]))   # 顾前不顾后\n",
    "print(a[-4:-1])\n",
    "print(a[-3:])\n",
    "print(a[2:])"
   ]
  },
  {
   "cell_type": "code",
   "execution_count": 80,
   "metadata": {},
   "outputs": [
    {
     "name": "stdout",
     "output_type": "stream",
     "text": [
      "连接: [1, 2, 3, 4, 5, 'ningo', 'cs']\n"
     ]
    }
   ],
   "source": [
    " #连接列表\n",
    "c = a + b  \n",
    "print(\"连接:\", c)"
   ]
  },
  {
   "cell_type": "code",
   "execution_count": 101,
   "metadata": {},
   "outputs": [
    {
     "name": "stdout",
     "output_type": "stream",
     "text": [
      "e: [1, 2, 3, 4, 5]\n",
      "a id: 2498235716424\n",
      "e id: 2498235716424\n",
      "[1, 2, 3, 'a', 4, 5]\n"
     ]
    }
   ],
   "source": [
    "#复制\n",
    "e = a\n",
    "print(\"e:\", e)\n",
    "print(\"a id:\", id(a))\n",
    "print(\"e id:\", id(e))\n",
    "e.insert(3, 'a')\n",
    "print(a)"
   ]
  },
  {
   "cell_type": "code",
   "execution_count": 82,
   "metadata": {},
   "outputs": [
    {
     "name": "stdout",
     "output_type": "stream",
     "text": [
      "重复: [1, 2, 3, 4, 5, 1, 2, 3, 4, 5, 1, 2, 3, 4, 5]\n"
     ]
    }
   ],
   "source": [
    "#列表重复\n",
    "print(\"重复:\", a*3)"
   ]
  },
  {
   "cell_type": "code",
   "execution_count": 83,
   "metadata": {},
   "outputs": [
    {
     "name": "stdout",
     "output_type": "stream",
     "text": [
      "in: True\n",
      "not in: False\n"
     ]
    }
   ],
   "source": [
    "#in, not in\n",
    "d = 4\n",
    "print(\"in:\", d in a)\n",
    "print(\"not in:\", d not in a)"
   ]
  },
  {
   "cell_type": "code",
   "execution_count": 84,
   "metadata": {},
   "outputs": [
    {
     "name": "stdout",
     "output_type": "stream",
     "text": [
      "遍历:\n",
      "1 2 3 4 5 "
     ]
    }
   ],
   "source": [
    "#遍历：for/while（不用）\n",
    "print(\"遍历:\")\n",
    "for i in a:\n",
    "    print(i, end=' ')"
   ]
  },
  {
   "cell_type": "code",
   "execution_count": 107,
   "metadata": {},
   "outputs": [
    {
     "name": "stdout",
     "output_type": "stream",
     "text": [
      "[1, 2, 3, 4, 5]\n",
      "pop a[3]: [1, 2, 3, 5]\n"
     ]
    }
   ],
   "source": [
    "# pop\n",
    "a = [1,2,3,4,5]\n",
    "print(a)\n",
    "a.pop(3)\n",
    "print(\"pop a[3]:\", a)"
   ]
  },
  {
   "cell_type": "code",
   "execution_count": 109,
   "metadata": {},
   "outputs": [
    {
     "name": "stdout",
     "output_type": "stream",
     "text": [
      "append:\n",
      "[1, 2, 3, 4, 5]\n",
      "添加: [1, 2, 3, 4, 5, 100]\n"
     ]
    }
   ],
   "source": [
    "# 追加 append\n",
    "print(\"append:\")\n",
    "a = [1,2,3,4,5]\n",
    "print(a)\n",
    "a.append(100)\n",
    "print(\"添加:\", a)"
   ]
  },
  {
   "cell_type": "code",
   "execution_count": 91,
   "metadata": {},
   "outputs": [
    {
     "name": "stdout",
     "output_type": "stream",
     "text": [
      "insert:\n",
      "[1, 2, 3, 4, 5]\n",
      "[1, 2, 40, 3, 4, 5]\n"
     ]
    }
   ],
   "source": [
    "#插入 insert\n",
    "print('insert:')\n",
    "a = [1,2,3,4,5]\n",
    "print(a)\n",
    "a.insert(2, 40)\n",
    "print(a)"
   ]
  },
  {
   "cell_type": "code",
   "execution_count": 114,
   "metadata": {},
   "outputs": [
    {
     "name": "stdout",
     "output_type": "stream",
     "text": [
      "one 1 2 3 3 4 5 \n",
      "two 2 nihao \n",
      "three 3 \n",
      "\n",
      "one   1   2\n",
      "two   2   nihao\n",
      "three   3   3\n"
     ]
    }
   ],
   "source": [
    "#双链表，二维数组\n",
    "f = [[\"one\", 1, 2, 3, 3, 4, 5], [\"two\", 2, \"nihao\"], [\"three\", 3]]\n",
    "\n",
    "for k in f:\n",
    "    for i in k:\n",
    "        print(i, end=' ')\n",
    "    print()\n",
    "print()\n",
    "\n",
    "#列表dengchang\n",
    "f = [[\"one\", 1, 2], [\"two\", 2, \"nihao\"], [\"three\", 3, 3]]\n",
    "\n",
    "for k,v,w in f:\n",
    "    print(k, \" \", v, \" \", w)"
   ]
  },
  {
   "cell_type": "code",
   "execution_count": 78,
   "metadata": {},
   "outputs": [
    {
     "name": "stdout",
     "output_type": "stream",
     "text": [
      "列表内涵：\n",
      "复制a:  ['a', 'b', 'c']\n",
      "\n",
      "*10:  [10, 20, 30, 40, 50]\n",
      "\n",
      "过滤:\n",
      "[1, 2, 3, 4, 5, 6, 7, 8, 9, 10, 11, 12, 13, 14, 15, 16, 17, 18, 19, 20, 21, 22, 23, 24, 25, 26, 27, 28, 29, 30, 31, 32, 33, 34]\n",
      "[2, 4, 6, 8, 10, 12, 14, 16, 18, 20, 22, 24, 26, 28, 30, 32, 34]\n",
      "\n",
      "嵌套:\n",
      "[1, 2, 3]\n",
      "[100, 200, 300]\n",
      "[101, 201, 301, 102, 202, 302, 103, 203, 303]\n",
      "101 201 301 102 202 302 103 203 303 \n",
      "条件表达式：\n",
      "[202, 203, 301, 302, 303]\n"
     ]
    }
   ],
   "source": [
    "# 列表内涵 list content\n",
    "print(\"列表内涵：\")\n",
    "\n",
    "a = ['a', 'b', 'c']\n",
    "b = [i for i in a]\n",
    "print(\"复制a: \", a)\n",
    "print()\n",
    "\n",
    "a = [1,2,3,4,5]\n",
    "b = [i*10 for i in a]\n",
    "print(\"*10: \", b)\n",
    "print()\n",
    "\n",
    "print(\"过滤:\")\n",
    "a = [i for i in range(1, 35)]\n",
    "print(a)\n",
    "b = [i for i in a if i%2 == 0]\n",
    "print(b)\n",
    "print()\n",
    "\n",
    "print(\"嵌套:\")\n",
    "a = [i for i in range(1, 4)]\n",
    "b = [i for i in range(100, 400) if i % 100 == 0]\n",
    "print(a)\n",
    "print(b)\n",
    "\n",
    "c = [m+n for m in a for n in b]\n",
    "print(c)\n",
    "\n",
    "#等价双重for循环\n",
    "for m in a:\n",
    "    for n in b:\n",
    "        print(m+n, end= ' ')\n",
    "\n",
    "print()\n",
    "print(\"条件表达式：\")\n",
    "c = [m+n for n in b for m in a if m+n > 201]\n",
    "print(c)\n"
   ]
  },
  {
   "cell_type": "code",
   "execution_count": 98,
   "metadata": {},
   "outputs": [
    {
     "name": "stdout",
     "output_type": "stream",
     "text": [
      "5\n",
      "最小值: 13\n",
      "最大值: 84\n",
      "['n', 'i', 'n', ' ', 'g', 'o']\n",
      "[10, 11, 12, 13, 14, 15, 16, 17, 18]\n"
     ]
    }
   ],
   "source": [
    "#列表函数\n",
    "a = [13,27,33,84,25]\n",
    "\n",
    "#长度 len\n",
    "print(len(a))\n",
    "\n",
    "#最值\n",
    "print('最小值:', min(a))\n",
    "print('最大值:', max(a))\n",
    "\n",
    "#可迭代数据转换成list\n",
    "a = \"nin go\"\n",
    "print(list(a))\n",
    "print(list(range(10, 19)))\n"
   ]
  },
  {
   "cell_type": "code",
   "execution_count": 34,
   "metadata": {},
   "outputs": [
    {
     "name": "stdout",
     "output_type": "stream",
     "text": [
      "remove:\n",
      "[1, 2, 3, 4, 5]\n",
      "2532517227528\n",
      "[1, 3, 4, 5]\n",
      "2532517227528\n",
      "***********************************\n",
      "del:\n",
      "del a[2]: [1, 3, 5]\n",
      "2532517227528\n",
      "***********************************\n",
      "pop:\n",
      "[1, 3]\n",
      "2532517227528\n",
      "***********************************\n",
      "clear:\n",
      "[]\n",
      "2532517227528\n"
     ]
    }
   ],
   "source": [
    "# remove  删除元素\n",
    "print(\"remove:\")\n",
    "a = [1,2,3,4,5]\n",
    "print(a)\n",
    "print(id(a))\n",
    "a.remove(2)\n",
    "print(a)\n",
    "print(id(a))\n",
    "print(\"*\"*35)\n",
    "\n",
    "# del  删除下标数据\n",
    "print(\"del:\")\n",
    "del a[2]\n",
    "print(\"del a[2]:\", a)\n",
    "#del a\n",
    "#print(\"删除列表:\", a)\n",
    "print(id(a))\n",
    "print(\"*\"*35)\n",
    "\n",
    "# pop  删除最后 \n",
    "print(\"pop:\")\n",
    "a.pop()\n",
    "print(a)\n",
    "print(id(a))\n",
    "print(\"*\"*35)\n",
    "\n",
    "# clear 清空\n",
    "# a = list()/a = [] 重新赋值，原列表不变\n",
    "print(\"clear:\")\n",
    "a.clear()\n",
    "print(a)\n",
    "print(id(a))\n"
   ]
  },
  {
   "cell_type": "code",
   "execution_count": 13,
   "metadata": {},
   "outputs": [
    {
     "name": "stdout",
     "output_type": "stream",
     "text": [
      "[1, 2, 3, 4, 5]\n",
      "2532517891464\n",
      "[5, 4, 3, 2, 1]\n",
      "2532517891464\n"
     ]
    }
   ],
   "source": [
    "# reverse 原地反转\n",
    "a = [1,2,3,4,5]\n",
    "print(a)\n",
    "print(id(a))\n",
    "a.reverse()\n",
    "print(a)\n",
    "print(id(a))"
   ]
  },
  {
   "cell_type": "code",
   "execution_count": 15,
   "metadata": {},
   "outputs": [
    {
     "name": "stdout",
     "output_type": "stream",
     "text": [
      "[1, 2, 3, 4, 5]\n",
      "[2, 3, 4, 5, 5]\n",
      "2532508184328\n",
      "[1, 2, 3, 4, 5, 2, 3, 4, 5, 5]\n",
      "2532508184328\n"
     ]
    }
   ],
   "source": [
    "# extend 扩展列表\n",
    "a = [1,2,3,4,5]\n",
    "b = [2,3,4,5,5]\n",
    "print(a)\n",
    "print(b)\n",
    "print(id(a))\n",
    "a.extend(b)\n",
    "print(a)\n",
    "print(id(a))"
   ]
  },
  {
   "cell_type": "code",
   "execution_count": 17,
   "metadata": {},
   "outputs": [
    {
     "name": "stdout",
     "output_type": "stream",
     "text": [
      "5\n"
     ]
    }
   ],
   "source": [
    "# count 查找列表中元素个数\n",
    "a = [1,2,3,4,5,5,3,3,2,2,2,2,3,4]\n",
    "print(a.count(2))"
   ]
  },
  {
   "cell_type": "code",
   "execution_count": 47,
   "metadata": {},
   "outputs": [
    {
     "name": "stdout",
     "output_type": "stream",
     "text": [
      "传地址：\n",
      "[1, 2, 3, 4, 5]\n",
      "[1, 2, 3, 4, 5]\n",
      "ida 2532518866312 [1, 2, 7, 3, 4, 5]\n",
      "idb 2532518866312 [1, 2, 7, 3, 4, 5]\n",
      "***********************************\n",
      "浅拷贝，一层传值，剩余传地址：\n",
      "[1, 2, 3, 4]\n",
      "ida 2532517889416 [1, 2, 3, 4]\n",
      "idc 2532518864008 [1, 2, 3, 4, 9]\n",
      "***********************************\n",
      "嵌套列表：\n",
      "ida: 2532518017032 [1, 2, 3, 4, [6, 8, 9]]\n",
      "idc: 2532518821256 [1, 2, 3, 4, [6, 8, 9]]\n",
      "a: [1, 2, 3, 4, [6, 8, 9]]\n",
      "(c删除元素)c: [1, 2, 4, [6, 8, 9]]\n",
      "***********************************\n",
      "ida[4] 2532517889416\n",
      "idc[4] 2532517889416\n",
      "c[4][2]更改值，c: [1, 2, 3, 4, [6, 8, 99]]\n",
      "a: [1, 2, 3, 4, [6, 8, 99]]\n"
     ]
    }
   ],
   "source": [
    "# copy 浅拷贝\n",
    "a = [1,2,3,4,5]\n",
    "print(\"传地址：\")\n",
    "b = a    # 传地址\n",
    "print(a)\n",
    "print(b)\n",
    "b.insert(2, 7)\n",
    "print('ida', id(a), a)\n",
    "print('idb', id(b), b)\n",
    "print(\"*\"*35)\n",
    "\n",
    "a = [1,2,3,4]\n",
    "print(\"浅拷贝，一层传值，剩余传地址：\")\n",
    "c = a.copy()     # 传值，浅拷贝\n",
    "print(c)\n",
    "c.append(9)\n",
    "print('ida', id(a), a)\n",
    "print('idc', id(c), c)\n",
    "print(\"*\"*35)\n",
    "\n",
    "print('嵌套列表：')\n",
    "a = [1,2,3,4, [6,8,9]]\n",
    "c = a.copy()\n",
    "print('ida:', id(a), a)\n",
    "print('idc:', id(c), c)\n",
    "c.remove(3)\n",
    "print('a:', a)\n",
    "print('(c删除元素)c:', c)\n",
    "print(\"*\"*35)\n",
    "\n",
    "\n",
    "a = [1,2,3,4, [6,8,9]]\n",
    "c = a.copy()\n",
    "print('ida[4]', id(a[4]))\n",
    "print('idc[4]', id(c[4]))\n",
    "c[4][2] = 99\n",
    "print('c[4][2]更改值，c:', c)\n",
    "print('a:', a)"
   ]
  },
  {
   "cell_type": "code",
   "execution_count": null,
   "metadata": {},
   "outputs": [],
   "source": []
  },
  {
   "cell_type": "code",
   "execution_count": null,
   "metadata": {},
   "outputs": [],
   "source": []
  },
  {
   "cell_type": "code",
   "execution_count": null,
   "metadata": {},
   "outputs": [],
   "source": []
  },
  {
   "cell_type": "code",
   "execution_count": null,
   "metadata": {},
   "outputs": [],
   "source": []
  },
  {
   "cell_type": "code",
   "execution_count": null,
   "metadata": {},
   "outputs": [],
   "source": []
  },
  {
   "cell_type": "code",
   "execution_count": null,
   "metadata": {},
   "outputs": [],
   "source": []
  }
 ],
 "metadata": {
  "kernelspec": {
   "display_name": "Python 3",
   "language": "python",
   "name": "python3"
  },
  "language_info": {
   "codemirror_mode": {
    "name": "ipython",
    "version": 3
   },
   "file_extension": ".py",
   "mimetype": "text/x-python",
   "name": "python",
   "nbconvert_exporter": "python",
   "pygments_lexer": "ipython3",
   "version": "3.7.0"
  }
 },
 "nbformat": 4,
 "nbformat_minor": 2
}
