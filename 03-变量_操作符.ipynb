{
 "cells": [
  {
   "cell_type": "markdown",
   "metadata": {},
   "source": [
    "# %占位符以及format使用"
   ]
  },
  {
   "cell_type": "code",
   "execution_count": null,
   "metadata": {},
   "outputs": [],
   "source": [
    "s = ('i am %s')\n",
    "print(s)\n",
    "\n",
    "ss = (\"i am %s\"%\"jeffybeh\")\n",
    "print(ss)\n",
    "\n",
    "sss = (\"I am %s\")\n",
    "print(sss%\"jeffybeh\")\n",
    "\n",
    "ssss = (\"I am {} and i am {} years old\").format(\"jeffybeh\", 22)\n",
    "print(ssss)\n",
    "\n",
    "sssss = (\"Yes, i am {1} years old, my name is {0} and i am really {1} years old\").format(\"jeffybeh\", 22)\n",
    "print(sssss)"
   ]
  },
  {
   "cell_type": "markdown",
   "metadata": {},
   "source": [
    "## None\n",
    "- 占位、解除变量绑定"
   ]
  },
  {
   "cell_type": "markdown",
   "metadata": {},
   "source": [
    "# 运算符\n",
    "- 算数运算符\n",
    "- 比较运算符\n",
    "- 赋值运算符\n",
    "- 逻辑运算符\n",
    "  - and、or、not\n",
    "  - 没有异或运算\n",
    "  - 短路\n",
    "- 位运算符\n",
    "- 成员运算符\n",
    "  - in、not in（是否属于）\n",
    "- 身份运算符\n",
    "  - is、is not（是否是同意个变量）"
   ]
  },
  {
   "cell_type": "code",
   "execution_count": null,
   "metadata": {},
   "outputs": [],
   "source": []
  }
 ],
 "metadata": {
  "kernelspec": {
   "display_name": "Python 3",
   "language": "python",
   "name": "python3"
  },
  "language_info": {
   "codemirror_mode": {
    "name": "ipython",
    "version": 3
   },
   "file_extension": ".py",
   "mimetype": "text/x-python",
   "name": "python",
   "nbconvert_exporter": "python",
   "pygments_lexer": "ipython3",
   "version": "3.7.0"
  }
 },
 "nbformat": 4,
 "nbformat_minor": 2
}
