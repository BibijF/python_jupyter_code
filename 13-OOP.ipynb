{
 "cells": [
  {
   "cell_type": "code",
   "execution_count": 5,
   "metadata": {},
   "outputs": [
    {
     "name": "stdout",
     "output_type": "stream",
     "text": [
      "{'__module__': '__main__', 'name': 'dana', 'age': 18, '__dict__': <attribute '__dict__' of 'Student' objects>, '__weakref__': <attribute '__weakref__' of 'Student' objects>, '__doc__': None}\n",
      "{'__module__': '__main__', 'name': 'dana', 'age': 18, '__dict__': <attribute '__dict__' of 'Student' objects>, '__weakref__': <attribute '__weakref__' of 'Student' objects>, '__doc__': None}\n",
      "dana\n"
     ]
    }
   ],
   "source": [
    "class Student:\n",
    "    name = 'dana'\n",
    "    age = 18\n",
    "\n",
    "print(Student.__dict__)\n",
    "\n",
    "# 实例化\n",
    "yueyue = Student\n",
    "print(yueyue.__dict__)\n",
    "print(yueyue.name)"
   ]
  },
  {
   "cell_type": "code",
   "execution_count": 3,
   "metadata": {},
   "outputs": [
    {
     "name": "stdout",
     "output_type": "stream",
     "text": [
      "dana\n",
      "18\n",
      "2889391220584\n",
      "140723023426928\n",
      "********************\n",
      "dana\n",
      "18\n",
      "2889391220584\n",
      "140723023426928\n"
     ]
    }
   ],
   "source": [
    "class A():\n",
    "    name = 'dana'\n",
    "    age = 18\n",
    "    \n",
    "    def say(self):\n",
    "        self.name = 'aaa'\n",
    "        self.age = 200\n",
    "\n",
    "# 此案例说明\n",
    "# 类实例的属性和其对象的实例的属性初始化指向同一块地址空间\n",
    "print(A.name)\n",
    "print(A.age)\n",
    "print(id(A.name))\n",
    "print(id(A.age))\n",
    "\n",
    "print('*'*20)\n",
    "\n",
    "a = A()\n",
    "print(a.name)\n",
    "print(a.age)\n",
    "print(id(a.name))\n",
    "print(id(a.age))\n"
   ]
  },
  {
   "cell_type": "code",
   "execution_count": 4,
   "metadata": {},
   "outputs": [
    {
     "name": "stdout",
     "output_type": "stream",
     "text": [
      "xiaona\n",
      "222\n",
      "2889391219520\n",
      "140723023433456\n",
      "22\n"
     ]
    }
   ],
   "source": [
    "b = A()\n",
    "b.name = 'xiaona'\n",
    "b.age = 222\n",
    "print(b.name)\n",
    "print(b.age)\n",
    "print(id(b.name))\n",
    "print(id(b.age))\n",
    "\n",
    "b.weight = 22\n",
    "print(b.weight)"
   ]
  },
  {
   "cell_type": "code",
   "execution_count": 5,
   "metadata": {},
   "outputs": [
    {
     "name": "stdout",
     "output_type": "stream",
     "text": [
      "My name is dana\n",
      "My age is 18\n",
      "My name is xiaona\n",
      "My age is 22\n"
     ]
    }
   ],
   "source": [
    "class Student():\n",
    "    name = 'dana'\n",
    "    age = 18\n",
    "    \n",
    "    def say(self):\n",
    "        self.name = 'xiaona'\n",
    "        self.age = 22\n",
    "        \n",
    "        print(\"My name is {0}\".format(self.name))\n",
    "        print(\"My age is {0}\".format(self.age))\n",
    "        \n",
    "    def sayAgain(s):\n",
    "        print(\"My name is {0}\".format(s.name))\n",
    "        print(\"My age is {0}\".format(s.age))\n",
    "        \n",
    "stu = Student()\n",
    "stu.sayAgain()\n",
    "stu.say()"
   ]
  },
  {
   "cell_type": "code",
   "execution_count": 7,
   "metadata": {},
   "outputs": [
    {
     "name": "stdout",
     "output_type": "stream",
     "text": [
      "my name is dana\n",
      "my age is 19\n",
      "19\n",
      "dana\n",
      "hello, nice to meet you!\n"
     ]
    }
   ],
   "source": [
    "class Teacher():\n",
    "    name = 'dana'\n",
    "    age =19\n",
    "    \n",
    "    def say(self):\n",
    "        name = \"xiaona\"\n",
    "        age = 20\n",
    "        \n",
    "        print(\"my name is {0}\".format(self.name))\n",
    "        #调用类的成员变量时需要用__class__\n",
    "        print(\"my age is {0}\".format(__class__.age))\n",
    "        \n",
    "    def sayAgain():\n",
    "        print(__class__.age)\n",
    "        print(__class__.name)\n",
    "        print(\"hello, nice to meet you!\")\n",
    "\n",
    "t = Teacher()\n",
    "t.say()\n",
    "# 调用绑定类函数只能使用类名\n",
    "Teacher.sayAgain()"
   ]
  },
  {
   "cell_type": "code",
   "execution_count": 11,
   "metadata": {},
   "outputs": [
    {
     "name": "stdout",
     "output_type": "stream",
     "text": [
      "aaaa\n",
      "200\n",
      "********************\n",
      "aaaa\n",
      "200\n",
      "********************\n",
      "liuying\n",
      "18\n",
      "********************\n",
      "bbbb\n",
      "20\n"
     ]
    }
   ],
   "source": [
    "# 关于self的案例\n",
    "\n",
    "class A():\n",
    "    name = \"liuying\"\n",
    "    age = 18\n",
    "    \n",
    "    def __init__(self):\n",
    "        self.name = 'aaaa'\n",
    "        self.age = 200\n",
    "    \n",
    "    def say(self):\n",
    "        print(self.name)\n",
    "        print(self.age)\n",
    "\n",
    "class B():\n",
    "    name = 'bbbb'\n",
    "    age = 20\n",
    "    \n",
    "a = A()\n",
    "# 默认将a作为参数传入\n",
    "a.say()\n",
    "print(\"*\"*20)\n",
    "# 将a作为参数传入\n",
    "A.say(a)\n",
    "print(\"*\"*20)\n",
    "# 将A作为参数传入\n",
    "A.say(A)\n",
    "print(\"*\"*20)\n",
    "# 将类实例B作为参数传入，B具有name和age属性，不会报错\n",
    "A.say(B)\n",
    "\n",
    "# 以上成为鸭子模型"
   ]
  },
  {
   "cell_type": "code",
   "execution_count": 12,
   "metadata": {},
   "outputs": [
    {
     "name": "stdout",
     "output_type": "stream",
     "text": [
      "liying\n"
     ]
    },
    {
     "ename": "NameError",
     "evalue": "name '__age' is not defined",
     "output_type": "error",
     "traceback": [
      "\u001b[1;31m---------------------------------------------------------------------------\u001b[0m",
      "\u001b[1;31mNameError\u001b[0m                                 Traceback (most recent call last)",
      "\u001b[1;32m<ipython-input-12-69e3199fabfd>\u001b[0m in \u001b[0;36m<module>\u001b[1;34m\u001b[0m\n\u001b[0;32m      9\u001b[0m \u001b[0mp\u001b[0m \u001b[1;33m=\u001b[0m \u001b[0mPerson\u001b[0m\u001b[1;33m(\u001b[0m\u001b[1;33m)\u001b[0m\u001b[1;33m\u001b[0m\u001b[1;33m\u001b[0m\u001b[0m\n\u001b[0;32m     10\u001b[0m \u001b[0mprint\u001b[0m\u001b[1;33m(\u001b[0m\u001b[0mp\u001b[0m\u001b[1;33m.\u001b[0m\u001b[0mname\u001b[0m\u001b[1;33m)\u001b[0m\u001b[1;33m\u001b[0m\u001b[1;33m\u001b[0m\u001b[0m\n\u001b[1;32m---> 11\u001b[1;33m \u001b[0mprint\u001b[0m\u001b[1;33m(\u001b[0m\u001b[0m__age\u001b[0m\u001b[1;33m)\u001b[0m\u001b[1;33m\u001b[0m\u001b[1;33m\u001b[0m\u001b[0m\n\u001b[0m",
      "\u001b[1;31mNameError\u001b[0m: name '__age' is not defined"
     ]
    }
   ],
   "source": [
    "# 私有变量案例\n",
    "\n",
    "class Person():\n",
    "    # name是公有变量\n",
    "    name = 'liying'\n",
    "    # age是私有变量\n",
    "    __age = 19\n",
    "    \n",
    "p = Person()\n",
    "print(p.name)\n",
    "print(__age)"
   ]
  },
  {
   "cell_type": "code",
   "execution_count": 14,
   "metadata": {},
   "outputs": [
    {
     "name": "stdout",
     "output_type": "stream",
     "text": [
      "{'__module__': '__main__', 'name': 'liying', '_Person__age': 19, '__dict__': <attribute '__dict__' of 'Person' objects>, '__weakref__': <attribute '__weakref__' of 'Person' objects>, '__doc__': None}\n",
      "22\n"
     ]
    }
   ],
   "source": [
    "# name mangling技术\n",
    "print(Person.__dict__)\n",
    "p._Person__age = 22\n",
    "print(p._Person__age)"
   ]
  },
  {
   "cell_type": "code",
   "execution_count": null,
   "metadata": {},
   "outputs": [],
   "source": []
  },
  {
   "cell_type": "code",
   "execution_count": null,
   "metadata": {},
   "outputs": [],
   "source": []
  },
  {
   "cell_type": "code",
   "execution_count": null,
   "metadata": {},
   "outputs": [],
   "source": []
  },
  {
   "cell_type": "code",
   "execution_count": null,
   "metadata": {},
   "outputs": [],
   "source": []
  },
  {
   "cell_type": "code",
   "execution_count": null,
   "metadata": {},
   "outputs": [],
   "source": []
  },
  {
   "cell_type": "code",
   "execution_count": null,
   "metadata": {},
   "outputs": [],
   "source": []
  }
 ],
 "metadata": {
  "kernelspec": {
   "display_name": "Python [conda env:oop]",
   "language": "python",
   "name": "conda-env-oop-py"
  },
  "language_info": {
   "codemirror_mode": {
    "name": "ipython",
    "version": 3
   },
   "file_extension": ".py",
   "mimetype": "text/x-python",
   "name": "python",
   "nbconvert_exporter": "python",
   "pygments_lexer": "ipython3",
   "version": "3.7.1"
  }
 },
 "nbformat": 4,
 "nbformat_minor": 2
}
