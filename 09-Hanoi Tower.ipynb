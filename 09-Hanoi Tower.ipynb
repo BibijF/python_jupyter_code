{
 "cells": [
  {
   "cell_type": "markdown",
   "metadata": {},
   "source": [
    "# Hanoi Tower\n",
    "- 规则：\n",
    "    1. 每次移动一个盘子\n",
    "    2. 任何时候大盘子在下面\n",
    "- 方法\n",
    "    1. n=1: 直接把A上的一个盘子移动到C上，A->C\n",
    "    2. n=2:\n",
    "        1. 把小盘子从A放到B上,A->B\n",
    "        2. 把大盘子从A放到B上,A->B\n",
    "        3. 把小盘子从B放到C上,B->C\n",
    "    3. n=3:\n",
    "        1. 把A上的两个盘子，通过C移动到B上去，调用递归实现\n",
    "        2. 把A上剩下的一个最大的盘子移动到C上，A->C\n",
    "        3. 把B上两个盘子，借助A，移动到C上，调用递归\n",
    "    4. n=n\n",
    "        1. 把A上的n-1个盘子，借助C，移动到B上，调用递归\n",
    "        2. 把A上的唯一的大盘子移动到C，A->C\n",
    "        3. 把B上的n-1个盘子，借助A，移动到C，调用递归\n",
    "        "
   ]
  },
  {
   "cell_type": "code",
   "execution_count": 1,
   "metadata": {},
   "outputs": [],
   "source": [
    "def hanoi(n, a, b, c):\n",
    "    '''\n",
    "    汉诺塔递归实现\n",
    "    n:代表第n个盘子\n",
    "    a:第一个盘子\n",
    "    b:第二个盘子\n",
    "    c:第三个盘子\n",
    "    '''\n",
    "    if n == 1:\n",
    "        print(a, \"-->\", c)\n",
    "        return None\n",
    "    \n",
    "    if n == 2:\n",
    "        print(a, \"-->\", b)\n",
    "        print(a, \"-->\", c)\n",
    "        print(b, \"-->\", c)\n",
    "        \n",
    "    # 把n-1个盘子，从a塔借助c塔，移动到b塔\n",
    "    hanoi(n-1, a, c, b)\n",
    "    # 把n-1个盘子，从b塔借助a塔，移动到c塔\n",
    "    hanoi(n-1, b, a, c)\n",
    "        \n",
    "a = 'A'\n",
    "b = 'B'\n",
    "c = 'C'\n",
    "n = 1"
   ]
  },
  {
   "cell_type": "code",
   "execution_count": null,
   "metadata": {},
   "outputs": [],
   "source": [
    "hanoi(3)"
   ]
  }
 ],
 "metadata": {
  "kernelspec": {
   "display_name": "Python 3",
   "language": "python",
   "name": "python3"
  },
  "language_info": {
   "codemirror_mode": {
    "name": "ipython",
    "version": 3
   },
   "file_extension": ".py",
   "mimetype": "text/x-python",
   "name": "python",
   "nbconvert_exporter": "python",
   "pygments_lexer": "ipython3",
   "version": "3.7.0"
  }
 },
 "nbformat": 4,
 "nbformat_minor": 2
}
