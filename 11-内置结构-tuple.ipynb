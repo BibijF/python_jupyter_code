{
 "cells": [
  {
   "cell_type": "markdown",
   "metadata": {},
   "source": [
    "# tuple 元祖\n",
    "- 只读型list"
   ]
  },
  {
   "cell_type": "code",
   "execution_count": 1,
   "metadata": {},
   "outputs": [
    {
     "name": "stdout",
     "output_type": "stream",
     "text": [
      "<class 'tuple'>\n",
      "\n",
      "<class 'int'>\n",
      "\n",
      "(1,)\n",
      "<class 'tuple'>\n",
      "\n",
      "(1, 2, 3, 3, 4)\n",
      "<class 'tuple'>\n",
      "\n",
      "(1,)\n",
      "<class 'tuple'>\n",
      "\n",
      "<class 'tuple'>\n",
      "\n",
      "<class 'tuple'>\n",
      "\n",
      "<class 'tuple'>\n"
     ]
    }
   ],
   "source": [
    "# 创建\n",
    "t = ()\n",
    "print(type(t))\n",
    "print()\n",
    "\n",
    "t = (1)\n",
    "print(type(t))\n",
    "print()\n",
    "\n",
    "t = (1,)\n",
    "print(t)\n",
    "print(type(t))\n",
    "print()\n",
    "\n",
    "t = (1,2,3,3,4)\n",
    "print(t)\n",
    "print(type(t))\n",
    "print()\n",
    "\n",
    "t = 1,\n",
    "print(t)\n",
    "print(type(t))\n",
    "print()\n",
    "\n",
    "t = 1,2,3,4,5\n",
    "print(type(t))\n",
    "print()\n",
    "\n",
    "t = tuple()\n",
    "print(type(t))\n",
    "print()\n",
    "\n",
    "l = [1,2,3,4,5]\n",
    "t = tuple(l)\n",
    "print(type(t))"
   ]
  },
  {
   "cell_type": "code",
   "execution_count": 8,
   "metadata": {},
   "outputs": [
    {
     "name": "stdout",
     "output_type": "stream",
     "text": [
      "5\n",
      "5\n",
      "1\n"
     ]
    }
   ],
   "source": [
    "#关于元组的函数\n",
    "t = (1,2,3,4,5)\n",
    "\n",
    "#获取元组长度\n",
    "print(len(t))\n",
    "\n",
    "#最大、最小值\n",
    "print(max(t))\n",
    "print(min(t))"
   ]
  },
  {
   "cell_type": "code",
   "execution_count": 10,
   "metadata": {},
   "outputs": [
    {
     "name": "stdout",
     "output_type": "stream",
     "text": [
      "(1, 2, 3, 4, 5)\n"
     ]
    }
   ],
   "source": [
    "#列表转换成元组\n",
    "l = [1,2,3,4,5]\n",
    "t = tuple(l)\n",
    "print(t)"
   ]
  },
  {
   "cell_type": "markdown",
   "metadata": {},
   "source": [
    "# 元组的函数\n",
    "- 和list通用"
   ]
  },
  {
   "cell_type": "code",
   "execution_count": 13,
   "metadata": {},
   "outputs": [
    {
     "name": "stdout",
     "output_type": "stream",
     "text": [
      "3\n",
      "1\n"
     ]
    }
   ],
   "source": [
    "# count：计算元素出现的次数\n",
    "t = (1,2,23,4,5,2,3,4,2,3,4,5)\n",
    "print(t.count(2))\n",
    "\n",
    "# index：输出第一个元素的下标\n",
    "print(t.index(2))"
   ]
  },
  {
   "cell_type": "markdown",
   "metadata": {},
   "source": [
    "# 元组变量交换\n",
    "- 两个变量交换值"
   ]
  },
  {
   "cell_type": "code",
   "execution_count": 16,
   "metadata": {},
   "outputs": [
    {
     "name": "stdout",
     "output_type": "stream",
     "text": [
      "2 3 1\n"
     ]
    }
   ],
   "source": [
    "# 两个变量交换值\n",
    "a = 1\n",
    "b = 2\n",
    "c = 3\n",
    "a, b, c= b, c, a\n",
    "print(a, b, c)"
   ]
  }
 ],
 "metadata": {
  "kernelspec": {
   "display_name": "Python 3",
   "language": "python",
   "name": "python3"
  },
  "language_info": {
   "codemirror_mode": {
    "name": "ipython",
    "version": 3
   },
   "file_extension": ".py",
   "mimetype": "text/x-python",
   "name": "python",
   "nbconvert_exporter": "python",
   "pygments_lexer": "ipython3",
   "version": "3.7.0"
  }
 },
 "nbformat": 4,
 "nbformat_minor": 2
}
