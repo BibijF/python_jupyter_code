{
 "cells": [
  {
   "cell_type": "code",
   "execution_count": null,
   "metadata": {},
   "outputs": [],
   "source": [
    "# 不使用大驼峰（class），使用小驼峰或下划线\n",
    "person = \"nani\"\n",
    "def func(person):\n",
    "    print(\"这是一个函数！{0}\".format(person))\n",
    "    return \"ningo\"\n",
    "pengo = func(person)\n",
    "print(pengo)\n"
   ]
  },
  {
   "cell_type": "markdown",
   "metadata": {},
   "source": [
    "# 关键字参数\n",
    "    def func(p1, p2, p3……):\n",
    "        func_body\n",
    "    #调用：\n",
    "    func_body(v1, v2, v3……)"
   ]
  },
  {
   "cell_type": "code",
   "execution_count": 2,
   "metadata": {},
   "outputs": [
    {
     "name": "stdout",
     "output_type": "stream",
     "text": [
      "我叫jeffybeh, 我今年22岁了,我家住在Tianjin\n"
     ]
    }
   ],
   "source": [
    "#关键字参数\n",
    "def stu_key(name=\"no name\", age=0, addr=\"no addr\"):\n",
    "    print(\"我叫{0}, 我今年{1}岁了,我家住在{2}\".format(name, age, addr))\n",
    "\n",
    "n = \"jeffybeh\"\n",
    "age = 22\n",
    "addr = \"Tianjin\"\n",
    "\n",
    "stu_key(name=n, age=age, addr=addr) #直接规定关键字，不用按位置传参\n"
   ]
  },
  {
   "cell_type": "markdown",
   "metadata": {},
   "source": [
    "# 收集参数\n",
    "    def func(*args):   #指针\n",
    "        func_body\n",
    "    调用：\n",
    "    func(v1, v2, v3……)\n",
    "        "
   ]
  },
  {
   "cell_type": "code",
   "execution_count": 17,
   "metadata": {},
   "outputs": [
    {
     "name": "stdout",
     "output_type": "stream",
     "text": [
      "以下是我的自我介绍：\n",
      "<class 'tuple'>\n",
      "ningo   80   北辰哈喇子沟   wangyu   \n",
      "以下是我的自我介绍：\n",
      "<class 'tuple'>\n",
      "pengo   88   chishi   \n",
      "以下是我的自我介绍：\n",
      "<class 'tuple'>\n",
      "\n"
     ]
    }
   ],
   "source": [
    "#收集参数\n",
    "\n",
    "def stu(*args):    #指针，不限个数\n",
    "    print(\"以下是我的自我介绍：\")\n",
    "    print(type(args))\n",
    "    for item in args:\n",
    "        print(item, '  ', end='')\n",
    "    print()\n",
    "\n",
    "stu(\"ningo\", 80, \"北辰哈喇子沟\", \"wangyu\")    #只能传参数，不能传关键字，e.g. name='pengo'\n",
    "stu(\"pengo\", 88, \"chishi\")\n",
    "stu()    #不传参\n"
   ]
  },
  {
   "cell_type": "markdown",
   "metadata": {},
   "source": [
    "# 收集关键字参数\n",
    "    def func(**kwargs): #字典\n",
    "        func_body\n",
    "    func(p1=v1, p2=v2, p3=v3……)\n"
   ]
  },
  {
   "cell_type": "code",
   "execution_count": null,
   "metadata": {},
   "outputs": [],
   "source": [
    "#收集关键字参数\n",
    "\n",
    "def stu(**kwargs): #字典\n",
    "    print(\"hello 大家好，我的自我介绍：\")\n",
    "    print(type(kwargs))\n",
    "    for k,v in kwargs.items():    #遍历\n",
    "        print(k, \"---\", v)\n",
    "        \n",
    "stu(name=\"ningo\", age=88, addr=\"北辰区\", lover=\"xiaoyu\", work=\"eater\")\n",
    "\n",
    "print(\"*\" * 30)\n",
    "\n",
    "stu()    #不传参"
   ]
  },
  {
   "cell_type": "markdown",
   "metadata": {},
   "source": [
    "# 收集参数混合调用\n",
    "    def func(p1, p2, *args, **kwargs)\n",
    "        func_body\n",
    "    调用：\n",
    "    func(p1=v1, p2=v2, v3, v4……, p5=v5, p6=v6……）\n"
   ]
  },
  {
   "cell_type": "code",
   "execution_count": 11,
   "metadata": {},
   "outputs": [
    {
     "name": "stdout",
     "output_type": "stream",
     "text": [
      "Hello, everybody\n",
      "My name is Ningo, i'm 22 years old.\n",
      "My hobby is swamming\n",
      "XiaoYu\n",
      "study\n",
      "********************\n",
      "lover --- Pengo\n",
      "father --- JeffyBeh\n"
     ]
    }
   ],
   "source": [
    "# 收集参数混合调用\n",
    "def stu(name, age, hobby=\"none\", *args, **kwargs):\n",
    "    print(\"Hello, everybody\")\n",
    "    print(\"My name is {0}, i'm {1} years old.\".format(name, age))\n",
    "    \n",
    "    if hobby == \"none\":\n",
    "        print(\"I have no hobby.\")\n",
    "    else:\n",
    "        print(\"My hobby is {0}\".format(hobby))\n",
    "    \n",
    "    for i in args:\n",
    "        print(i)\n",
    "        \n",
    "    print(\"*\" * 20)\n",
    "    \n",
    "    for k, v in kwargs.items():\n",
    "        print(k, \"---\", v)\n",
    "        \n",
    "stu(\"Ningo\", 22, \"swamming\", \"XiaoYu\", \"study\", lover='Pengo', father='JeffyBeh')"
   ]
  },
  {
   "cell_type": "code",
   "execution_count": 22,
   "metadata": {},
   "outputs": [
    {
     "name": "stdout",
     "output_type": "stream",
     "text": [
      "['Ningo', 'Pengo', 'Gango', 'Chaogo', 'Pengo']  \n",
      "Ningo  Pengo  Gango  Chaogo  Pengo  \n"
     ]
    }
   ],
   "source": [
    "# 收集参数解包问题\n",
    "def stu(*args):\n",
    "    for i in args:\n",
    "        print(i, end=\"  \")\n",
    "    print(\"\")\n",
    "        \n",
    "l = [\"Ningo\", \"Pengo\", \"Gango\", \"Chaogo\", \"Pengo\"]\n",
    "stu(l)    #传列表（数组）\n",
    "stu(*l)    #解包，传指针"
   ]
  },
  {
   "cell_type": "markdown",
   "metadata": {},
   "source": [
    "# 文档\n",
    "    - 写法\n",
    "        - 有特定格式\n",
    "        - 三引号说明\n",
    "    - 查看文档\n",
    "        - help(func)\n",
    "        - func.__doc__"
   ]
  },
  {
   "cell_type": "code",
   "execution_count": 26,
   "metadata": {},
   "outputs": [
    {
     "name": "stdout",
     "output_type": "stream",
     "text": [
      "Help on function stu in module __main__:\n",
      "\n",
      "stu(name, *args)\n",
      "    这是文档说明\n",
      "    name: 学生姓名\n",
      "    args: 其他信息\n",
      "\n",
      "None\n",
      "********************\n",
      "\n",
      "        这是文档说明\n",
      "        name: 学生姓名\n",
      "        args: 其他信息\n",
      "    \n"
     ]
    }
   ],
   "source": [
    "def stu(name, *args):\n",
    "    '''\n",
    "        这是文档说明\n",
    "        name: 学生姓名\n",
    "        args: 其他信息\n",
    "    '''\n",
    "    pass\n",
    "\n",
    "print(help(stu))\n",
    "print(\"*\"*20)\n",
    "print(stu.__doc__)"
   ]
  },
  {
   "cell_type": "code",
   "execution_count": 23,
   "metadata": {},
   "outputs": [
    {
     "name": "stdout",
     "output_type": "stream",
     "text": [
      "Help on function stu in module __main__:\n",
      "\n",
      "stu(*args)\n",
      "    # 收集参数解包问题\n",
      "\n"
     ]
    }
   ],
   "source": [
    "help(stu)"
   ]
  },
  {
   "cell_type": "code",
   "execution_count": null,
   "metadata": {},
   "outputs": [],
   "source": []
  }
 ],
 "metadata": {
  "kernelspec": {
   "display_name": "Python 3",
   "language": "python",
   "name": "python3"
  },
  "language_info": {
   "codemirror_mode": {
    "name": "ipython",
    "version": 3
   },
   "file_extension": ".py",
   "mimetype": "text/x-python",
   "name": "python",
   "nbconvert_exporter": "python",
   "pygments_lexer": "ipython3",
   "version": "3.7.0"
  }
 },
 "nbformat": 4,
 "nbformat_minor": 2
}
